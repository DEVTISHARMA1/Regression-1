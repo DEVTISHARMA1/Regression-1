{
 "cells": [
  {
   "cell_type": "code",
   "execution_count": null,
   "id": "2423b2eb-f0f2-4ca2-ba9e-808bf91b7d6d",
   "metadata": {},
   "outputs": [],
   "source": [
    "#1 que\n",
    "#Number of Independent Variables:\n",
    "#  1. Simple Linear Regression: One independent variable.\n",
    "#  2. Multiple Linear Regression: Two or more independent variables.\n",
    "#Application:\n",
    "#    1.Simple Linear Regression: Used when there is a single predictor variable.\n",
    "#   2.Multiple Linear Regression: Used when there are multiple predictor variables."
   ]
  },
  {
   "cell_type": "code",
   "execution_count": null,
   "id": "807bda2c-2ff2-44bd-8b3a-49aa9319c662",
   "metadata": {},
   "outputs": [],
   "source": [
    "#2 que\n",
    "#Assumptions of Linear Regression:\n",
    "#    Linearity:The relationship between the independent and dependent variables is linear.\n",
    "#Independence of Residuals:\n",
    "#    The residuals (the differences between observed and predicted values) are independent.\n",
    "#No Autocorrelation:\n",
    "#    Residuals are not correlated with each other."
   ]
  },
  {
   "cell_type": "code",
   "execution_count": null,
   "id": "65a3ce93-0440-47c5-b7b5-b9b07b8bbd1b",
   "metadata": {},
   "outputs": [],
   "source": [
    "#3que\n",
    "#Interpretation of Slope:The slope represents the change in the dependent variable (y) for a one-unit change in the\n",
    "#independent variable (x). It quantifies the strength and direction of the linear relationship.\n",
    "#Interpretation of Intercept:The intercept represents the expected value of the dependent variable when the \n",
    "#independent variable is zero. It is the point where the regression line intersects the y-axis.\n",
    "#Let's consider a real-world scenario where we want to predict house prices based on the size of the house"
   ]
  },
  {
   "cell_type": "code",
   "execution_count": null,
   "id": "2dd1ae00-b594-4193-a752-a5f0be9ddfaa",
   "metadata": {},
   "outputs": [],
   "source": [
    "#4 que\n",
    "#Gradient Descent is an iterative optimization algorithm used to minimize the cost function in machine learning\n",
    "#models. It's a fundamental optimization technique that finds the minimum of a function by iteratively moving in\n",
    "#the direction of steepest descent (the negative gradient) with respect to the parameters (weights) of the model.\n",
    "#How Gradient Descent is Used in Machine Learning:\n",
    "#Model Training:\n",
    "#Feature Selection:\n",
    "#Optimizing Neural Networks:"
   ]
  },
  {
   "cell_type": "code",
   "execution_count": null,
   "id": "22cd8162-5938-4cec-8611-c37eb709c60c",
   "metadata": {},
   "outputs": [],
   "source": [
    "#5que\n",
    "#Multiple linear regression extends the concept of simple linear regression by allowing for more than one\n",
    "#independent variable (predictor) to be used in predicting a dependent variable.\n",
    "#Number of Independent Variables:\n",
    "#  1. Simple Linear Regression: One independent variable.\n",
    "#  2. Multiple Linear Regression: Two or more independent variables.\n",
    "#Application:\n",
    "#    1.Simple Linear Regression: Used when there is a single predictor variable.\n",
    "#   2.Multiple Linear Regression: Used when there are multiple predictor variables."
   ]
  },
  {
   "cell_type": "code",
   "execution_count": null,
   "id": "fb8350d1-19ef-42bd-9feb-012b3cdc2237",
   "metadata": {},
   "outputs": [],
   "source": [
    "#6que\n",
    "#Multicollinearity is a phenomenon in multiple linear regression where two or more independent variables in a \n",
    "#model are highly correlated, making it difficult to separate their individual effects on the dependent variable.\n",
    "#It can lead to unstable coefficient estimates, reduced statistical power, and difficulties in interpreting the\n",
    "#model."
   ]
  },
  {
   "cell_type": "code",
   "execution_count": null,
   "id": "a01bb10f-b110-4efd-b336-ebdbdc89aa79",
   "metadata": {},
   "outputs": [],
   "source": [
    "#6que\n",
    "#Polynomial regression is an extension of linear regression that allows for modeling the relationship between the\n",
    "#independent variable (x) and the dependent variable (y) as an n-th degree polynomial. \n",
    "#Degree of the Equation:\n",
    "#    Linear Regression: The equation is linear, with a degree of 1.\n",
    "#    Polynomial Regression: The equation is a polynomial of degree n\n",
    "#Curve Fitting:\n",
    "#    Linear Regression: Fits a straight line to the data.\n",
    "#    Polynomial Regression: Fits a curve to the data, allowing for more flexibility in capturing patterns."
   ]
  },
  {
   "cell_type": "code",
   "execution_count": null,
   "id": "8cd9d03b-bdac-4ef8-8f5e-fda2654781d1",
   "metadata": {},
   "outputs": [],
   "source": [
    "#7 que\n",
    "#Advantages of Polynomial Regression:\n",
    "#Captures Non-Linear Patterns,Flexibility,Enhanced Fit to Data,Applicability to Curvilinear Data\n",
    "#Disadvantages of Polynomial Regression:\n",
    "#Overfitting,Interpretability,Computational Complexity,Extrapolation Challenges"
   ]
  },
  {
   "cell_type": "code",
   "execution_count": null,
   "id": "e5c45034-2cd0-4fc1-86b7-6584d06f78ae",
   "metadata": {},
   "outputs": [],
   "source": [
    "#8 que\n",
    "#Advantages of Polynomial Regression:\n",
    "#       Captures Non-Linear Patterns,Flexibility,Enhanced Fit to Data,Applicability to Curvilinear Data\n",
    "#Disadvantages of Polynomial Regression:\n",
    "#       Overfitting,Interpretability,Computational Complexity\n",
    "#When to Prefer Linear Regression:\n",
    "#    Simplicity, Interpretability,Lower Complexity Models,"
   ]
  }
 ],
 "metadata": {
  "kernelspec": {
   "display_name": "Python 3 (ipykernel)",
   "language": "python",
   "name": "python3"
  },
  "language_info": {
   "codemirror_mode": {
    "name": "ipython",
    "version": 3
   },
   "file_extension": ".py",
   "mimetype": "text/x-python",
   "name": "python",
   "nbconvert_exporter": "python",
   "pygments_lexer": "ipython3",
   "version": "3.10.8"
  }
 },
 "nbformat": 4,
 "nbformat_minor": 5
}
